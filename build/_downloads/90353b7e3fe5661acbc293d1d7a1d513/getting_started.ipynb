{
  "cells": [
    {
      "cell_type": "code",
      "execution_count": null,
      "metadata": {
        "collapsed": false
      },
      "outputs": [],
      "source": [
        "%matplotlib inline"
      ]
    },
    {
      "cell_type": "markdown",
      "metadata": {},
      "source": [
        "\n# Getting Started with Visual Scripting in Bayesian Inference\n\n`visual_bayesic` leverages the power of visual scripting to simplify and enhance the Bayesian inference process. \nThis \"Getting Started\" guide demonstrates how the combination of graphical representations and Python scripts can make \ndefining and running Bayesian models more intuitive and user-friendly.\n\nLet's dive in!\n"
      ]
    },
    {
      "cell_type": "code",
      "execution_count": null,
      "metadata": {
        "collapsed": false
      },
      "outputs": [],
      "source": [
        "import os\nimport sys\n\nfrom visual_bayesic.runner import display_graph, execute_model, import_model\n\n# Determine the base path\nif '__file__' in globals():\n    base_path = os.path.dirname(__file__)\nelse:\n    base_path = os.getcwd()\n\n# Adjust the Python module search path to include the parent directory\nsys.path.append(os.path.join(base_path, '..'))\n\nnormal_likelihood = import_model(\"normal_likelihood\")"
      ]
    },
    {
      "cell_type": "markdown",
      "metadata": {},
      "source": [
        "The visual scripting graph below represents the Bayesian inference process. \nEach node corresponds to a step or component, and the connections depict the flow of data and dependencies. \nThis graphical view provides an intuitive way to understand the structure and flow of the Bayesian model.\n\n"
      ]
    },
    {
      "cell_type": "code",
      "execution_count": null,
      "metadata": {
        "collapsed": false
      },
      "outputs": [],
      "source": [
        "display_graph(normal_likelihood)"
      ]
    },
    {
      "cell_type": "code",
      "execution_count": null,
      "metadata": {
        "collapsed": false
      },
      "outputs": [],
      "source": [
        "# Execute the model\nexecute_model(normal_likelihood)"
      ]
    },
    {
      "cell_type": "markdown",
      "metadata": {},
      "source": [
        "## Conclusion\nThrough this example, we experienced the unique approach of `visual_bayesic` that harnesses the power of \nvisual scripting to simplify Bayesian inference. This intuitive blend of graphics and code empowers users \nto effectively define, understand, and execute Bayesian models.\n\n"
      ]
    }
  ],
  "metadata": {
    "kernelspec": {
      "display_name": "Python 3",
      "language": "python",
      "name": "python3"
    },
    "language_info": {
      "codemirror_mode": {
        "name": "ipython",
        "version": 3
      },
      "file_extension": ".py",
      "mimetype": "text/x-python",
      "name": "python",
      "nbconvert_exporter": "python",
      "pygments_lexer": "ipython3",
      "version": "3.10.4"
    }
  },
  "nbformat": 4,
  "nbformat_minor": 0
}