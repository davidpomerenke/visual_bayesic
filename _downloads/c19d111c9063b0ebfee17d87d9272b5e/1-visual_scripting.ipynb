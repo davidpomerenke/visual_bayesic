{
  "cells": [
    {
      "cell_type": "code",
      "execution_count": null,
      "metadata": {
        "collapsed": false
      },
      "outputs": [],
      "source": [
        "%matplotlib inline"
      ]
    },
    {
      "cell_type": "markdown",
      "metadata": {},
      "source": [
        "\n# Visual Scripting compiled model\n"
      ]
    },
    {
      "cell_type": "code",
      "execution_count": null,
      "metadata": {
        "collapsed": false
      },
      "outputs": [],
      "source": [
        "from argparse import ArgumentParser\nfrom xai_components.base import SubGraphExecutor\nfrom xai_components.xai_controlflow.branches import BranchComponent\nfrom xai_components.xai_obsolete.prob_models import VisualizeModelGraph\nfrom xai_components.xai_plotting.probabilistic_plot import ArvizObject, PlotPrior, PlotNormalLikelihood, PlotMarginals, PlotNormalLikelihoodJoy\nfrom xai_components.xai_probabilistic_models.probabilistic_models_I import PyroModel\nfrom xai_components.xai_probability_distributions.probabilistic_distributions import Gamma, Uniform, Normal\nfrom xai_components.xai_pyro.probabilistic_node import MCMC, RunMCMC, NUTS, PriorPredictive, PosteriorPredictive, Sample\n\ndef main(args):\n    ctx = {}\n    ctx['args'] = args\n    c_0 = Normal()\n    c_1 = Sample()\n    c_2 = PyroModel()\n    c_3 = VisualizeModelGraph()\n    c_4 = PriorPredictive()\n    c_5 = ArvizObject()\n    c_6 = PlotPrior()\n    c_7 = PlotNormalLikelihood()\n    c_8 = PlotNormalLikelihoodJoy()\n    c_9 = PosteriorPredictive()\n    c_10 = Sample()\n    c_11 = Gamma()\n    c_12 = PlotMarginals()\n    c_13 = Uniform()\n    c_14 = BranchComponent()\n    c_15 = Sample()\n    c_16 = Normal()\n    c_17 = Sample()\n    c_18 = MCMC()\n    c_19 = RunMCMC()\n    c_20 = NUTS()\n    c_0.mean = c_17.sample\n    c_0.std = c_10.sample\n    c_1.name.value = '$y$'\n    c_1.fn = c_0.fn\n    c_1.fn = c_0.fn\n    c_1.fn = c_0.fn\n    c_1.fn = c_0.fn\n    c_1.fn = c_0.fn\n    c_1.fn = c_0.fn\n    c_1.fn = c_0.fn\n    c_1.fn = c_0.fn\n    c_1.fn = c_0.fn\n    c_1.fn = c_0.fn\n    c_1.obs.value = [2.12, 2.06, 2.08, 2.05, 2.08, 2.09, 2.19, 2.07, 2.16, 2.11, 2.13, 1.92]\n    c_2.arg1 = c_1.sample\n    c_3.model_function = c_2.model\n    c_4.model = c_2.model\n    c_4.num_samples.value = 20\n    c_5.mcmc = c_18.mcmc\n    c_5.prior_predictive_values = c_4.prior\n    c_5.posterior_predictive_values = c_9.posterior_predictive\n    c_6.az_data = c_5.az_data\n    c_6.az_data = c_5.az_data\n    c_7.az_data = c_5.az_data\n    c_7.mean_sample_name.value = '$\\\\mu$'\n    c_7.std_sample_name.value = '$\\\\sigma$'\n    c_7.y_sample_name.value = '$y$'\n    c_8.az_data = c_5.az_data\n    c_8.mean_sample_name.value = '$\\\\mu$'\n    c_8.std_sample_name.value = '$\\\\sigma$'\n    c_8.y_sample_name.value = '$y$'\n    c_9.model = c_2.model\n    c_9.MCMC = c_18.mcmc\n    c_9.num_samples.value = 20\n    c_10.name.value = '$\\\\sigma$'\n    c_10.fn = c_11.fn\n    c_10.fn = c_11.fn\n    c_11.concentration.value = 0.3\n    c_11.rate.value = 3.01\n    c_12.az_data = c_5.az_data\n    c_12.sample_1_name.value = '$\\\\mu$'\n    c_12.sample_2_name.value = '$\\\\sigma$'\n    c_13.low.value = 0.0\n    c_13.high.value = 10.0\n    c_14.condition.value = True\n    c_15.name.value = '$\\\\mu$'\n    c_15.fn = c_13.fn\n    c_15.fn = c_13.fn\n    c_15.fn = c_13.fn\n    c_15.fn = c_13.fn\n    c_15.fn = c_13.fn\n    c_15.fn = c_13.fn\n    c_15.fn = c_13.fn\n    c_15.fn = c_13.fn\n    c_15.fn = c_13.fn\n    c_15.fn = c_13.fn\n    c_15.fn = c_13.fn\n    c_15.fn = c_13.fn\n    c_16.mean.value = 2.07\n    c_16.std.value = 0.07\n    c_17.name.value = '$\\\\mu$'\n    c_17.fn = c_16.fn\n    c_17.fn = c_16.fn\n    c_17.fn = c_16.fn\n    c_17.fn = c_16.fn\n    c_17.fn = c_16.fn\n    c_17.fn = c_16.fn\n    c_17.fn = c_16.fn\n    c_17.fn = c_16.fn\n    c_17.fn = c_16.fn\n    c_17.fn = c_16.fn\n    c_18.NUTS = c_20.NUTS\n    c_18.NUTS = c_20.NUTS\n    c_18.num_samples.value = 50\n    c_18.num_chains.value = 1\n    c_19.mcmc = c_18.mcmc\n    c_20.model = c_2.model\n    c_0.next = c_1\n    c_1.next = c_2\n    c_2.next = c_3\n    c_3.next = c_4\n    c_4.next = c_20\n    c_5.next = c_6\n    c_6.next = c_7\n    c_7.next = c_8\n    c_8.next = c_12\n    c_9.next = c_5\n    c_10.next = c_0\n    c_11.next = c_10\n    c_12.next = None\n    c_13.next = c_15\n    c_14.next = c_11\n    c_14.when_true = SubGraphExecutor(c_16)\n    c_14.when_false = SubGraphExecutor(c_13)\n    c_15.next = None\n    c_16.next = c_17\n    c_17.next = None\n    c_18.next = c_19\n    c_19.next = c_9\n    c_20.next = c_18\n    next_component = c_14\n    while next_component:\n        next_component = next_component.do(ctx)\nif __name__ == '__main__':\n    parser = ArgumentParser()\n    main(parser.parse_args())\n    print('\\nFinished Executing')"
      ]
    }
  ],
  "metadata": {
    "kernelspec": {
      "display_name": "Python 3",
      "language": "python",
      "name": "python3"
    },
    "language_info": {
      "codemirror_mode": {
        "name": "ipython",
        "version": 3
      },
      "file_extension": ".py",
      "mimetype": "text/x-python",
      "name": "python",
      "nbconvert_exporter": "python",
      "pygments_lexer": "ipython3",
      "version": "3.10.4"
    }
  },
  "nbformat": 4,
  "nbformat_minor": 0
}