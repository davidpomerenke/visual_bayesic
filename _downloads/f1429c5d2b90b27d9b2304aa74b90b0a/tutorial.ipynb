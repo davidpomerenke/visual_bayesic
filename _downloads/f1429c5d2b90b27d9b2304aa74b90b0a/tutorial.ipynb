{
  "cells": [
    {
      "cell_type": "code",
      "execution_count": null,
      "metadata": {
        "collapsed": false
      },
      "outputs": [],
      "source": [
        "%matplotlib inline"
      ]
    },
    {
      "cell_type": "markdown",
      "metadata": {},
      "source": [
        "\n# Getting started with Visual Bayesic\n\nCheck out the tutorial.xircuit file to see the visual representation of the code below.\nfrom argparse import ArgumentParser\n"
      ]
    },
    {
      "cell_type": "code",
      "execution_count": null,
      "metadata": {
        "collapsed": false
      },
      "outputs": [],
      "source": [
        "from argparse import ArgumentParser\nfrom xai_components.base import SubGraphExecutor\nfrom xai_components.xai_plotting.probabilistic_plot import PlotDensity, PlotNormalLikelihoodJoy, PlotPrior, ArvizObject, PlotTrace, VisualizeModelGraph\nfrom xai_components.xai_probabilistic_models.probabilistic_models_I import PyroModel\nfrom xai_components.xai_probability_distributions.probabilistic_distributions import GammaSampler, NormalSampler\nfrom xai_components.xai_pyro.probabilistic_node import FullInference\n\ndef main(args):\n    ctx = {}\n    ctx['args'] = args\n    c_0 = VisualizeModelGraph()\n    c_1 = NormalSampler()\n    c_2 = NormalSampler()\n    c_3 = FullInference()\n    c_4 = ArvizObject()\n    c_5 = PlotNormalLikelihoodJoy()\n    c_6 = GammaSampler()\n    c_7 = PlotDensity()\n    c_8 = PlotTrace()\n    c_9 = PlotPrior()\n    c_10 = PyroModel()\n    c_0.model_function = c_10.model\n    c_0.model_function = c_10.model\n    c_0.model_function = c_10.model\n    c_1.name.value = 'Likelihood\\n'\n    c_1.mean = c_2.sample\n    c_1.std = c_6.sample\n    c_1.obs.value = [2.12, 2.06, 2.08, 2.05]\n    c_2.name.value = 'Likelihood mean\\n'\n    c_2.mean.value = 2.07\n    c_2.std.value = 0.08\n    c_3.model = c_10.model\n    c_3.num_samples.value = 1000\n    c_4.mcmc = c_3.mcmc\n    c_4.prior_predictive_values = c_3.prior_predictive\n    c_4.posterior_predictive_values = c_3.posterior_predictive\n    c_5.az_data = c_4.az_data\n    c_5.mean_sample_name.value = 'Likelihood mean\\n'\n    c_5.std_sample_name.value = 'Likelihood std'\n    c_5.y_sample_name.value = 'Likelihood\\n'\n    c_5.n_samples.value = 19\n    c_6.name.value = 'Likelihood std'\n    c_6.concentration.value = 3.3\n    c_6.rate.value = 1.2\n    c_7.az_data = c_4.az_data\n    c_8.az_data = c_4.az_data\n    c_9.az_data = c_4.az_data\n    c_10.arg1 = c_1.sample\n    c_0.next = c_3\n    c_1.next = c_10\n    c_2.next = c_6\n    c_3.next = c_4\n    c_4.next = c_9\n    c_5.next = None\n    c_6.next = c_1\n    c_7.next = c_5\n    c_8.next = c_7\n    c_9.next = c_8\n    c_10.next = c_0\n    next_component = c_2\n    while next_component:\n        next_component = next_component.do(ctx)\nif __name__ == '__main__':\n    parser = ArgumentParser()\n    main(parser.parse_args())\n    print('\\nFinished Executing')"
      ]
    }
  ],
  "metadata": {
    "kernelspec": {
      "display_name": "Python 3",
      "language": "python",
      "name": "python3"
    },
    "language_info": {
      "codemirror_mode": {
        "name": "ipython",
        "version": 3
      },
      "file_extension": ".py",
      "mimetype": "text/x-python",
      "name": "python",
      "nbconvert_exporter": "python",
      "pygments_lexer": "ipython3",
      "version": "3.10.4"
    }
  },
  "nbformat": 4,
  "nbformat_minor": 0
}